{
 "cells": [
  {
   "cell_type": "code",
   "execution_count": 1,
   "id": "2a40d8fd",
   "metadata": {},
   "outputs": [
    {
     "data": {
      "text/html": [
       "<div>\n",
       "<style scoped>\n",
       "    .dataframe tbody tr th:only-of-type {\n",
       "        vertical-align: middle;\n",
       "    }\n",
       "\n",
       "    .dataframe tbody tr th {\n",
       "        vertical-align: top;\n",
       "    }\n",
       "\n",
       "    .dataframe thead th {\n",
       "        text-align: right;\n",
       "    }\n",
       "</style>\n",
       "<table border=\"1\" class=\"dataframe\">\n",
       "  <thead>\n",
       "    <tr style=\"text-align: right;\">\n",
       "      <th></th>\n",
       "      <th>State_Name</th>\n",
       "      <th>District_Name</th>\n",
       "      <th>Crop_Year</th>\n",
       "      <th>Season</th>\n",
       "      <th>Crop</th>\n",
       "      <th>Area</th>\n",
       "      <th>Production</th>\n",
       "    </tr>\n",
       "  </thead>\n",
       "  <tbody>\n",
       "    <tr>\n",
       "      <th>0</th>\n",
       "      <td>Andhra Pradesh</td>\n",
       "      <td>ANANTAPUR</td>\n",
       "      <td>1997</td>\n",
       "      <td>Kharif</td>\n",
       "      <td>Arhar/Tur</td>\n",
       "      <td>21400.0</td>\n",
       "      <td>2600.0</td>\n",
       "    </tr>\n",
       "    <tr>\n",
       "      <th>1</th>\n",
       "      <td>Andhra Pradesh</td>\n",
       "      <td>ANANTAPUR</td>\n",
       "      <td>1997</td>\n",
       "      <td>Kharif</td>\n",
       "      <td>Bajra</td>\n",
       "      <td>1400.0</td>\n",
       "      <td>500.0</td>\n",
       "    </tr>\n",
       "    <tr>\n",
       "      <th>2</th>\n",
       "      <td>Andhra Pradesh</td>\n",
       "      <td>ANANTAPUR</td>\n",
       "      <td>1997</td>\n",
       "      <td>Kharif</td>\n",
       "      <td>Castor seed</td>\n",
       "      <td>1000.0</td>\n",
       "      <td>100.0</td>\n",
       "    </tr>\n",
       "    <tr>\n",
       "      <th>3</th>\n",
       "      <td>Andhra Pradesh</td>\n",
       "      <td>ANANTAPUR</td>\n",
       "      <td>1997</td>\n",
       "      <td>Kharif</td>\n",
       "      <td>Cotton(lint)</td>\n",
       "      <td>7300.0</td>\n",
       "      <td>9400.0</td>\n",
       "    </tr>\n",
       "    <tr>\n",
       "      <th>4</th>\n",
       "      <td>Andhra Pradesh</td>\n",
       "      <td>ANANTAPUR</td>\n",
       "      <td>1997</td>\n",
       "      <td>Kharif</td>\n",
       "      <td>Dry chillies</td>\n",
       "      <td>3700.0</td>\n",
       "      <td>7100.0</td>\n",
       "    </tr>\n",
       "  </tbody>\n",
       "</table>\n",
       "</div>"
      ],
      "text/plain": [
       "       State_Name District_Name  Crop_Year       Season          Crop  \\\n",
       "0  Andhra Pradesh     ANANTAPUR       1997  Kharif          Arhar/Tur   \n",
       "1  Andhra Pradesh     ANANTAPUR       1997  Kharif              Bajra   \n",
       "2  Andhra Pradesh     ANANTAPUR       1997  Kharif        Castor seed   \n",
       "3  Andhra Pradesh     ANANTAPUR       1997  Kharif       Cotton(lint)   \n",
       "4  Andhra Pradesh     ANANTAPUR       1997  Kharif       Dry chillies   \n",
       "\n",
       "      Area  Production  \n",
       "0  21400.0      2600.0  \n",
       "1   1400.0       500.0  \n",
       "2   1000.0       100.0  \n",
       "3   7300.0      9400.0  \n",
       "4   3700.0      7100.0  "
      ]
     },
     "execution_count": 1,
     "metadata": {},
     "output_type": "execute_result"
    }
   ],
   "source": [
    "import pandas as pd\n",
    "\n",
    "data = pd.read_csv(\"D:/project sem 3/Data-processed/area data .csv\")\n",
    "data.head()"
   ]
  },
  {
   "cell_type": "code",
   "execution_count": 2,
   "id": "9055f164",
   "metadata": {
    "scrolled": true
   },
   "outputs": [
    {
     "data": {
      "text/plain": [
       "array(['Andhra Pradesh', 'Arunachal Pradesh', 'Assam', 'Bihar', 'Goa',\n",
       "       'Gujarat', 'Haryana', 'Jammu and Kashmir ', 'Karnataka', 'Kerala',\n",
       "       'Madhya Pradesh', 'Maharashtra', 'Manipur', 'Meghalaya', 'Mizoram',\n",
       "       'Nagaland', 'Odisha', 'Punjab', 'Rajasthan', 'Tamil Nadu',\n",
       "       'Telangana ', 'Uttar Pradesh', 'West Bengal', 'Chandigarh',\n",
       "       'Dadra and Nagar Haveli', 'Himachal Pradesh', 'Puducherry',\n",
       "       'Sikkim', 'Tripura', 'Andaman and Nicobar Islands', 'Chhattisgarh',\n",
       "       'Uttarakhand', 'Jharkhand'], dtype=object)"
      ]
     },
     "execution_count": 2,
     "metadata": {},
     "output_type": "execute_result"
    }
   ],
   "source": [
    "data.State_Name.unique()"
   ]
  },
  {
   "cell_type": "code",
   "execution_count": 3,
   "id": "db41379a",
   "metadata": {
    "scrolled": true
   },
   "outputs": [
    {
     "data": {
      "text/plain": [
       "array(['ANANTAPUR', 'CHITTOOR', 'EAST GODAVARI', 'GUNTUR', 'KADAPA',\n",
       "       'KRISHNA', 'KURNOOL', 'PRAKASAM', 'SPSR NELLORE', 'SRIKAKULAM',\n",
       "       'VISAKHAPATANAM', 'VIZIANAGARAM', 'WEST GODAVARI', 'CHANGLANG',\n",
       "       'DIBANG VALLEY', 'EAST KAMENG', 'EAST SIANG', 'LOHIT',\n",
       "       'LOWER SUBANSIRI', 'PAPUM PARE', 'TAWANG', 'TIRAP', 'UPPER SIANG',\n",
       "       'UPPER SUBANSIRI', 'WEST KAMENG', 'WEST SIANG', 'BARPETA',\n",
       "       'BONGAIGAON', 'CACHAR', 'DARRANG', 'DHEMAJI', 'DHUBRI',\n",
       "       'DIBRUGARH', 'DIMA HASAO', 'GOALPARA', 'GOLAGHAT', 'HAILAKANDI',\n",
       "       'JORHAT', 'KAMRUP', 'KARBI ANGLONG', 'KARIMGANJ', 'KOKRAJHAR',\n",
       "       'LAKHIMPUR', 'MARIGAON', 'NAGAON', 'NALBARI', 'SIVASAGAR',\n",
       "       'SONITPUR', 'TINSUKIA', 'ARARIA', 'AURANGABAD', 'BANKA',\n",
       "       'BEGUSARAI', 'BHAGALPUR', 'BHOJPUR', 'BUXAR', 'DARBHANGA', 'GAYA',\n",
       "       'GOPALGANJ', 'JAMUI', 'JEHANABAD', 'KAIMUR (BHABUA)', 'KATIHAR',\n",
       "       'KHAGARIA', 'KISHANGANJ', 'LAKHISARAI', 'MADHEPURA', 'MADHUBANI',\n",
       "       'MUNGER', 'MUZAFFARPUR', 'NALANDA', 'NAWADA', 'PASHCHIM CHAMPARAN',\n",
       "       'PATNA', 'PURBI CHAMPARAN', 'PURNIA', 'ROHTAS', 'SAHARSA',\n",
       "       'SAMASTIPUR', 'SARAN', 'SHEIKHPURA', 'SHEOHAR', 'SITAMARHI',\n",
       "       'SIWAN', 'SUPAUL', 'VAISHALI', 'NORTH GOA', 'SOUTH GOA',\n",
       "       'AHMADABAD', 'AMRELI', 'BANAS KANTHA', 'BHARUCH', 'BHAVNAGAR',\n",
       "       'DANG', 'GANDHINAGAR', 'JAMNAGAR', 'JUNAGADH', 'KACHCHH', 'KHEDA',\n",
       "       'MAHESANA', 'PANCH MAHALS', 'RAJKOT', 'SABAR KANTHA', 'SURAT',\n",
       "       'SURENDRANAGAR', 'VADODARA', 'VALSAD', 'AMBALA', 'BHIWANI',\n",
       "       'FARIDABAD', 'FATEHABAD', 'GURGAON', 'HISAR', 'JHAJJAR', 'JIND',\n",
       "       'KAITHAL', 'KARNAL', 'KURUKSHETRA', 'MAHENDRAGARH', 'PANCHKULA',\n",
       "       'PANIPAT', 'REWARI', 'ROHTAK', 'SIRSA', 'SONIPAT', 'YAMUNANAGAR',\n",
       "       'ANANTNAG', 'BADGAM', 'BARAMULLA', 'DODA', 'JAMMU', 'KARGIL',\n",
       "       'KATHUA', 'KUPWARA', 'LEH LADAKH', 'POONCH', 'PULWAMA', 'RAJAURI',\n",
       "       'SRINAGAR', 'UDHAMPUR', 'BANGALORE RURAL', 'BELGAUM', 'BELLARY',\n",
       "       'BENGALURU URBAN', 'BIDAR', 'BIJAPUR', 'CHIKMAGALUR',\n",
       "       'CHITRADURGA', 'DAKSHIN KANNAD', 'DHARWAD', 'GULBARGA', 'HASSAN',\n",
       "       'KODAGU', 'KOLAR', 'MANDYA', 'MYSORE', 'RAICHUR', 'SHIMOGA',\n",
       "       'TUMKUR', 'UTTAR KANNAD', 'ALAPPUZHA', 'ERNAKULAM', 'IDUKKI',\n",
       "       'KANNUR', 'KASARAGOD', 'KOLLAM', 'KOTTAYAM', 'KOZHIKODE',\n",
       "       'MALAPPURAM', 'PALAKKAD', 'PATHANAMTHITTA', 'THIRUVANANTHAPURAM',\n",
       "       'THRISSUR', 'WAYANAD', 'BALAGHAT', 'BETUL', 'BHIND', 'BHOPAL',\n",
       "       'CHHATARPUR', 'CHHINDWARA', 'DAMOH', 'DATIA', 'DEWAS', 'DHAR',\n",
       "       'GUNA', 'GWALIOR', 'HOSHANGABAD', 'INDORE', 'JABALPUR', 'JHABUA',\n",
       "       'KHANDWA', 'KHARGONE', 'MANDLA', 'MANDSAUR', 'MORENA',\n",
       "       'NARSINGHPUR', 'PANNA', 'RAISEN', 'RAJGARH', 'RATLAM', 'REWA',\n",
       "       'SAGAR', 'SATNA', 'SEHORE', 'SEONI', 'SHAHDOL', 'SHAJAPUR',\n",
       "       'SHIVPURI', 'SIDHI', 'TIKAMGARH', 'UJJAIN', 'VIDISHA',\n",
       "       'AHMEDNAGAR', 'AKOLA', 'AMRAVATI', 'BEED', 'BHANDARA', 'BULDHANA',\n",
       "       'CHANDRAPUR', 'DHULE', 'GADCHIROLI', 'JALGAON', 'JALNA',\n",
       "       'KOLHAPUR', 'LATUR', 'MUMBAI', 'NAGPUR', 'NANDED', 'NASHIK',\n",
       "       'OSMANABAD', 'PARBHANI', 'PUNE', 'RAIGAD', 'RATNAGIRI', 'SANGLI',\n",
       "       'SATARA', 'SINDHUDURG', 'SOLAPUR', 'THANE', 'WARDHA', 'YAVATMAL',\n",
       "       'BISHNUPUR', 'CHANDEL', 'CHURACHANDPUR', 'IMPHAL EAST',\n",
       "       'IMPHAL WEST', 'SENAPATI', 'TAMENGLONG', 'THOUBAL', 'UKHRUL',\n",
       "       'EAST GARO HILLS', 'EAST JAINTIA HILLS', 'EAST KHASI HILLS',\n",
       "       'RI BHOI', 'SOUTH GARO HILLS', 'WEST GARO HILLS',\n",
       "       'WEST KHASI HILLS', 'AIZAWL', 'CHAMPHAI', 'KOLASIB', 'LUNGLEI',\n",
       "       'KOHIMA', 'MOKOKCHUNG', 'MON', 'PHEK', 'TUENSANG', 'WOKHA',\n",
       "       'ZUNHEBOTO', 'ANUGUL', 'BALANGIR', 'BALESHWAR', 'BARGARH',\n",
       "       'BHADRAK', 'BOUDH', 'CUTTACK', 'DEOGARH', 'DHENKANAL', 'GAJAPATI',\n",
       "       'GANJAM', 'JAGATSINGHAPUR', 'JAJAPUR', 'JHARSUGUDA', 'KALAHANDI',\n",
       "       'KANDHAMAL', 'KENDRAPARA', 'KENDUJHAR', 'KHORDHA', 'KORAPUT',\n",
       "       'MALKANGIRI', 'MAYURBHANJ', 'NABARANGPUR', 'NAYAGARH', 'NUAPADA',\n",
       "       'PURI', 'RAYAGADA', 'SAMBALPUR', 'SONEPUR', 'SUNDARGARH',\n",
       "       'AMRITSAR', 'BATHINDA', 'FARIDKOT', 'FATEHGARH SAHIB', 'FIROZEPUR',\n",
       "       'GURDASPUR', 'HOSHIARPUR', 'JALANDHAR', 'KAPURTHALA', 'LUDHIANA',\n",
       "       'MANSA', 'MOGA', 'MUKTSAR', 'NAWANSHAHR', 'PATIALA', 'RUPNAGAR',\n",
       "       'SANGRUR', 'AJMER', 'ALWAR', 'BANSWARA', 'BARAN', 'BARMER',\n",
       "       'BHARATPUR', 'BHILWARA', 'BIKANER', 'BUNDI', 'CHITTORGARH',\n",
       "       'CHURU', 'DAUSA', 'DHOLPUR', 'DUNGARPUR', 'GANGANAGAR',\n",
       "       'HANUMANGARH', 'JAIPUR', 'JAISALMER', 'JALORE', 'JHALAWAR',\n",
       "       'JHUNJHUNU', 'JODHPUR', 'KARAULI', 'KOTA', 'NAGAUR', 'PALI',\n",
       "       'RAJSAMAND', 'SAWAI MADHOPUR', 'SIKAR', 'SIROHI', 'TONK',\n",
       "       'UDAIPUR', 'COIMBATORE', 'CUDDALORE', 'DHARMAPURI', 'DINDIGUL',\n",
       "       'ERODE', 'KANCHIPURAM', 'KANNIYAKUMARI', 'KARUR', 'MADURAI',\n",
       "       'NAGAPATTINAM', 'NAMAKKAL', 'PERAMBALUR', 'PUDUKKOTTAI',\n",
       "       'RAMANATHAPURAM', 'SALEM', 'SIVAGANGA', 'THANJAVUR',\n",
       "       'THE NILGIRIS', 'THENI', 'THIRUVALLUR', 'THIRUVARUR',\n",
       "       'TIRUCHIRAPPALLI', 'TIRUNELVELI', 'TIRUVANNAMALAI', 'TUTICORIN',\n",
       "       'VELLORE', 'VILLUPURAM', 'VIRUDHUNAGAR', 'ADILABAD', 'HYDERABAD',\n",
       "       'KARIMNAGAR', 'KHAMMAM', 'MAHBUBNAGAR', 'MEDAK', 'NALGONDA',\n",
       "       'NIZAMABAD', 'RANGAREDDI', 'WARANGAL', 'AGRA', 'ALIGARH',\n",
       "       'ALLAHABAD', 'AMBEDKAR NAGAR', 'AMROHA', 'AURAIYA', 'AZAMGARH',\n",
       "       'BAGHPAT', 'BAHRAICH', 'BALLIA', 'BALRAMPUR', 'BANDA', 'BARABANKI',\n",
       "       'BAREILLY', 'BASTI', 'BIJNOR', 'BUDAUN', 'BULANDSHAHR',\n",
       "       'CHANDAULI', 'CHITRAKOOT', 'DEORIA', 'ETAH', 'ETAWAH', 'FAIZABAD',\n",
       "       'FARRUKHABAD', 'FATEHPUR', 'FIROZABAD', 'GAUTAM BUDDHA NAGAR',\n",
       "       'GHAZIABAD', 'GHAZIPUR', 'GONDA', 'GORAKHPUR', 'HAMIRPUR',\n",
       "       'HARDOI', 'HATHRAS', 'JALAUN', 'JAUNPUR', 'JHANSI', 'KANNAUJ',\n",
       "       'KANPUR DEHAT', 'KANPUR NAGAR', 'KAUSHAMBI', 'KHERI',\n",
       "       'KUSHI NAGAR', 'LALITPUR', 'LUCKNOW', 'MAHARAJGANJ', 'MAHOBA',\n",
       "       'MAINPURI', 'MATHURA', 'MAU', 'MEERUT', 'MIRZAPUR', 'MORADABAD',\n",
       "       'MUZAFFARNAGAR', 'PILIBHIT', 'PRATAPGARH', 'RAE BARELI', 'RAMPUR',\n",
       "       'SAHARANPUR', 'SANT KABEER NAGAR', 'SANT RAVIDAS NAGAR',\n",
       "       'SHAHJAHANPUR', 'SHRAVASTI', 'SIDDHARTH NAGAR', 'SITAPUR',\n",
       "       'SONBHADRA', 'SULTANPUR', 'UNNAO', 'VARANASI',\n",
       "       '24 PARAGANAS NORTH', '24 PARAGANAS SOUTH', 'BANKURA', 'BARDHAMAN',\n",
       "       'BIRBHUM', 'COOCHBEHAR', 'DARJEELING', 'DINAJPUR DAKSHIN',\n",
       "       'DINAJPUR UTTAR', 'HOOGHLY', 'HOWRAH', 'JALPAIGURI', 'MALDAH',\n",
       "       'MEDINIPUR EAST', 'MEDINIPUR WEST', 'MURSHIDABAD', 'NADIA',\n",
       "       'PURULIA', 'CHANDIGARH', 'DADRA AND NAGAR HAVELI', 'BILASPUR',\n",
       "       'CHAMBA', 'KANGRA', 'KINNAUR', 'KULLU', 'LAHUL AND SPITI', 'MANDI',\n",
       "       'SHIMLA', 'SIRMAUR', 'SOLAN', 'UNA', 'BAGALKOT', 'CHAMARAJANAGAR',\n",
       "       'DAVANGERE', 'GADAG', 'HAVERI', 'KOPPAL', 'UDUPI', 'BARWANI',\n",
       "       'DINDORI', 'HARDA', 'KATNI', 'NEEMUCH', 'SHEOPUR', 'UMARIA',\n",
       "       'KARAIKAL', 'MAHE', 'PONDICHERRY', 'YANAM', 'EAST DISTRICT',\n",
       "       'NORTH DISTRICT', 'SOUTH DISTRICT', 'WEST DISTRICT', 'DHALAI',\n",
       "       'NORTH TRIPURA', 'SOUTH TRIPURA', 'WEST TRIPURA', 'GONDIA',\n",
       "       'HINGOLI', 'NANDURBAR', 'WASHIM', 'KRISHNAGIRI', 'NICOBARS',\n",
       "       'NORTH AND MIDDLE ANDAMAN', 'BASTAR', 'DANTEWADA', 'DHAMTARI',\n",
       "       'DURG', 'JANJGIR-CHAMPA', 'JASHPUR', 'KABIRDHAM', 'KANKER',\n",
       "       'KORBA', 'KOREA', 'MAHASAMUND', 'RAIGARH', 'RAIPUR', 'RAJNANDGAON',\n",
       "       'SURGUJA', 'DIMAPUR', 'ALMORA', 'BAGESHWAR', 'CHAMOLI',\n",
       "       'CHAMPAWAT', 'DEHRADUN', 'HARIDWAR', 'NAINITAL', 'PAURI GARHWAL',\n",
       "       'PITHORAGARH', 'RUDRA PRAYAG', 'TEHRI GARHWAL', 'UDAM SINGH NAGAR',\n",
       "       'UTTAR KASHI', 'SOUTH ANDAMANS', 'KURUNG KUMEY',\n",
       "       'LOWER DIBANG VALLEY', 'BOKARO', 'CHATRA', 'DEOGHAR', 'DHANBAD',\n",
       "       'DUMKA', 'EAST SINGHBUM', 'GARHWA', 'GIRIDIH', 'GODDA', 'GUMLA',\n",
       "       'HAZARIBAGH', 'KODERMA', 'LOHARDAGA', 'PAKUR', 'PALAMU', 'RANCHI',\n",
       "       'SAHEBGANJ', 'WEST SINGHBHUM', 'ANUPPUR', 'ARWAL', 'ANAND',\n",
       "       'DOHAD', 'NARMADA', 'NAVSARI', 'PATAN', 'PORBANDAR', 'JAMTARA',\n",
       "       'LATEHAR', 'SARAIKELA KHARSAWAN', 'SIMDEGA', 'ASHOKNAGAR',\n",
       "       'BURHANPUR', 'MAMIT', 'SAIHA', 'ANJAW', 'LAWNGTLAI', 'SERCHHIP',\n",
       "       'BAKSA', 'CHIRANG', 'KAMRUP METRO', 'UDALGURI', 'NARAYANPUR',\n",
       "       'MEWAT', 'S.A.S NAGAR', 'TARN TARAN', 'BANDIPORA', 'GANDERBAL',\n",
       "       'KISHTWAR', 'KULGAM', 'RAMBAN', 'REASI', 'SAMBA', 'SHOPIAN',\n",
       "       'CHIKBALLAPUR', 'RAMANAGARA', 'BARNALA', 'TAPI', 'PALWAL',\n",
       "       'ALIRAJPUR', 'SINGRAULI', 'KIPHIRE', 'LONGLENG', 'PEREN',\n",
       "       'ARIYALUR', 'TIRUPPUR', 'KASGANJ', 'KHUNTI', 'RAMGARH', 'YADGIR',\n",
       "       'AMETHI'], dtype=object)"
      ]
     },
     "execution_count": 3,
     "metadata": {},
     "output_type": "execute_result"
    }
   ],
   "source": [
    "data.District_Name.unique()"
   ]
  },
  {
   "cell_type": "code",
   "execution_count": 4,
   "id": "96f1bb64",
   "metadata": {},
   "outputs": [
    {
     "data": {
      "text/plain": [
       "array(['Kharif     ', 'Rabi       ', 'Whole Year ', 'Autumn     ',\n",
       "       'Summer     ', 'Winter     '], dtype=object)"
      ]
     },
     "execution_count": 4,
     "metadata": {},
     "output_type": "execute_result"
    }
   ],
   "source": [
    "data.Season.unique()"
   ]
  },
  {
   "cell_type": "code",
   "execution_count": 5,
   "id": "20df145c",
   "metadata": {},
   "outputs": [
    {
     "data": {
      "text/plain": [
       "array(['Arhar/Tur', 'Bajra', 'Castor seed', 'Cotton(lint)',\n",
       "       'Dry chillies', 'Groundnut', 'Horse-gram', 'Jowar', 'Korra',\n",
       "       'Maize', 'Moong(Green Gram)', 'Other Kharif pulses', 'Ragi',\n",
       "       'Rice', 'Sugarcane', 'Sunflower', 'Tobacco', 'Gram', 'Wheat',\n",
       "       'Samai', 'Sesamum', 'Urad', 'Small millets', 'Varagu', 'Mesta',\n",
       "       'Soyabean', 'Rapeseed &Mustard', 'Oilseeds total', 'Jute',\n",
       "       'Linseed', 'Other  Rabi pulses', 'Arecanut', 'Niger seed', 'Onion',\n",
       "       'Potato', 'Sweet potato', 'Tapioca', 'Turmeric', 'Dry ginger',\n",
       "       'Barley', 'Banana', 'Coriander', 'Garlic', 'Sannhamp', 'Safflower',\n",
       "       'Moth', 'Pulses total', 'Paddy', 'Black pepper', 'Cardamom',\n",
       "       'Cashewnut', 'Total foodgrain', 'Kapas', 'Peas & beans (Pulses)',\n",
       "       'Masoor', 'Khesari', 'Blackgram', 'Other Cereals & Millets',\n",
       "       'other oilseeds', 'Cond-spcs other', 'Tea', 'Guar seed',\n",
       "       'Jute & mesta', 'other misc. pulses', 'Rubber', 'Coffee',\n",
       "       'Beans & Mutter(Vegetable)', 'Bhindi', 'Brinjal', 'Citrus Fruit',\n",
       "       'Cucumber', 'Grapes', 'Mango', 'Orange', 'other fibres',\n",
       "       'Other Fresh Fruits', 'Other Vegetables', 'Papaya', 'Pome Fruit',\n",
       "       'Tomato', 'Cabbage', 'Peas  (vegetable)', 'Bottle Gourd',\n",
       "       'Pineapple', 'Turnip', 'Carrot', 'Redish', 'Arcanut (Processed)',\n",
       "       'Atcanut (Raw)', 'Cashewnut Processed', 'Cashewnut Raw',\n",
       "       'Bitter Gourd', 'Drum Stick', 'Jack Fruit', 'Snak Guard',\n",
       "       'Cauliflower', 'Water Melon', 'Ash Gourd', 'Beet Root', 'Lab-Lab',\n",
       "       'Other Citrus Fruit', 'Pome Granet', 'Ribed Guard', 'Yam',\n",
       "       'Pump Kin', 'Apple', 'Peach', 'Pear', 'Plums', 'Ber', 'Litchi',\n",
       "       'Other Dry Fruit', 'Cowpea(Lobia)', 'Ginger'], dtype=object)"
      ]
     },
     "execution_count": 5,
     "metadata": {},
     "output_type": "execute_result"
    }
   ],
   "source": [
    "data.Crop.unique()"
   ]
  },
  {
   "cell_type": "code",
   "execution_count": 6,
   "id": "8c6e5c5e",
   "metadata": {},
   "outputs": [],
   "source": [
    "data.dropna(inplace=True)\n"
   ]
  },
  {
   "cell_type": "code",
   "execution_count": 7,
   "id": "b7798ced",
   "metadata": {},
   "outputs": [],
   "source": [
    "X = data[['State_Name', 'District_Name', 'Crop_Year', 'Season', 'Crop', 'Area']]\n"
   ]
  },
  {
   "cell_type": "code",
   "execution_count": 8,
   "id": "cb554015",
   "metadata": {},
   "outputs": [],
   "source": [
    "y = data['Production']\n"
   ]
  },
  {
   "cell_type": "code",
   "execution_count": 9,
   "id": "926cbcfb",
   "metadata": {},
   "outputs": [],
   "source": [
    "from sklearn.preprocessing import OneHotEncoder\n",
    "\n",
    "enc = OneHotEncoder(handle_unknown='ignore')\n",
    "X_encoded = enc.fit_transform(X)\n"
   ]
  },
  {
   "cell_type": "code",
   "execution_count": 10,
   "id": "a199b791",
   "metadata": {},
   "outputs": [],
   "source": [
    "from sklearn.model_selection import train_test_split\n",
    "\n",
    "X_train, X_test, y_train, y_test = train_test_split(X_encoded, y, test_size=0.2, random_state=42)\n"
   ]
  },
  {
   "cell_type": "code",
   "execution_count": null,
   "id": "fe4acc28",
   "metadata": {},
   "outputs": [],
   "source": [
    "from sklearn.ensemble import RandomForestRegressor\n",
    "\n",
    "model = RandomForestRegressor(n_estimators=100, random_state=42)\n",
    "model.fit(X_train, y_train)\n"
   ]
  },
  {
   "cell_type": "code",
   "execution_count": null,
   "id": "a99da2ac",
   "metadata": {},
   "outputs": [],
   "source": [
    "y_pred = model.predict(X_test)\n",
    "\n",
    "from sklearn.metrics import r2_score\n",
    "\n",
    "score = r2_score(y_test, y_pred)\n",
    "print(\"R-squared score:\", score)"
   ]
  },
  {
   "cell_type": "code",
   "execution_count": 13,
   "id": "fef37a61",
   "metadata": {},
   "outputs": [
    {
     "name": "stdout",
     "output_type": "stream",
     "text": [
      "Predicted production: [838.71]\n"
     ]
    }
   ],
   "source": [
    "# Create a new sample data point for prediction\n",
    "new_data = pd.DataFrame({'State_Name': ['Andhra Pradesh'], 'District_Name': ['ANANTAPUR'], 'Crop_Year': [1997],\n",
    "                         'Season': ['Kharif'], 'Crop': ['Arhar/Tur'], 'Area': [21400]})\n",
    "\n",
    "# Encode the sample data point\n",
    "new_data_encoded = enc.transform(new_data)\n",
    "\n",
    "# Use the model to predict the production\n",
    "prediction = model.predict(new_data_encoded)\n",
    "print(\"Predicted production:\", prediction)"
   ]
  },
  {
   "cell_type": "code",
   "execution_count": 14,
   "id": "838ba7f1",
   "metadata": {},
   "outputs": [],
   "source": [
    "import pickle\n",
    "\n",
    "area_pkl_filename = 'D:/project sem 3/models/ap.pkl'\n",
    "# Open the file to save as pkl file\n",
    "area_Model_pkl = open(area_pkl_filename, 'wb')\n",
    "pickle.dump(model, area_Model_pkl)\n",
    "# Close the pickle instances\n",
    "area_Model_pkl.close()"
   ]
  },
  {
   "cell_type": "code",
   "execution_count": 15,
   "id": "84ff9e4d",
   "metadata": {},
   "outputs": [
    {
     "data": {
      "text/plain": [
       "State_Name        object\n",
       "District_Name     object\n",
       "Crop_Year          int64\n",
       "Season            object\n",
       "Crop              object\n",
       "Area             float64\n",
       "Production       float64\n",
       "dtype: object"
      ]
     },
     "execution_count": 15,
     "metadata": {},
     "output_type": "execute_result"
    }
   ],
   "source": [
    "data.dtypes"
   ]
  },
  {
   "cell_type": "code",
   "execution_count": 16,
   "id": "ffbb8f9f",
   "metadata": {},
   "outputs": [
    {
     "data": {
      "text/plain": [
       "621"
      ]
     },
     "execution_count": 16,
     "metadata": {},
     "output_type": "execute_result"
    }
   ],
   "source": [
    "data.District_Name.nunique()"
   ]
  },
  {
   "cell_type": "code",
   "execution_count": 17,
   "id": "1c2f7c34",
   "metadata": {},
   "outputs": [],
   "source": [
    "d=data.District_Name.unique()"
   ]
  },
  {
   "cell_type": "code",
   "execution_count": 18,
   "id": "a2858b9a",
   "metadata": {},
   "outputs": [],
   "source": [
    "d.sort()"
   ]
  },
  {
   "cell_type": "code",
   "execution_count": 19,
   "id": "d7d35ebc",
   "metadata": {},
   "outputs": [
    {
     "name": "stdout",
     "output_type": "stream",
     "text": [
      "['24 PARAGANAS NORTH' '24 PARAGANAS SOUTH' 'ADILABAD' 'AGRA' 'AHMADABAD'\n",
      " 'AHMEDNAGAR' 'AIZAWL' 'AJMER' 'AKOLA' 'ALAPPUZHA' 'ALIGARH' 'ALIRAJPUR'\n",
      " 'ALLAHABAD' 'ALMORA' 'ALWAR' 'AMBALA' 'AMBEDKAR NAGAR' 'AMETHI'\n",
      " 'AMRAVATI' 'AMRELI' 'AMRITSAR' 'AMROHA' 'ANAND' 'ANANTAPUR' 'ANANTNAG'\n",
      " 'ANJAW' 'ANUGUL' 'ANUPPUR' 'ARARIA' 'ARIYALUR' 'ARWAL' 'ASHOKNAGAR'\n",
      " 'AURAIYA' 'AURANGABAD' 'AZAMGARH' 'BADGAM' 'BAGALKOT' 'BAGESHWAR'\n",
      " 'BAGHPAT' 'BAHRAICH' 'BAKSA' 'BALAGHAT' 'BALANGIR' 'BALESHWAR' 'BALLIA'\n",
      " 'BALRAMPUR' 'BANAS KANTHA' 'BANDA' 'BANDIPORA' 'BANGALORE RURAL' 'BANKA'\n",
      " 'BANKURA' 'BANSWARA' 'BARABANKI' 'BARAMULLA' 'BARAN' 'BARDHAMAN'\n",
      " 'BAREILLY' 'BARGARH' 'BARMER' 'BARNALA' 'BARPETA' 'BARWANI' 'BASTAR'\n",
      " 'BASTI' 'BATHINDA' 'BEED' 'BEGUSARAI' 'BELGAUM' 'BELLARY'\n",
      " 'BENGALURU URBAN' 'BETUL' 'BHADRAK' 'BHAGALPUR' 'BHANDARA' 'BHARATPUR'\n",
      " 'BHARUCH' 'BHAVNAGAR' 'BHILWARA' 'BHIND' 'BHIWANI' 'BHOJPUR' 'BHOPAL'\n",
      " 'BIDAR' 'BIJAPUR' 'BIJNOR' 'BIKANER' 'BILASPUR' 'BIRBHUM' 'BISHNUPUR'\n",
      " 'BOKARO' 'BONGAIGAON' 'BOUDH' 'BUDAUN' 'BULANDSHAHR' 'BULDHANA' 'BUNDI'\n",
      " 'BURHANPUR' 'BUXAR' 'CACHAR' 'CHAMARAJANAGAR' 'CHAMBA' 'CHAMOLI'\n",
      " 'CHAMPAWAT' 'CHAMPHAI' 'CHANDAULI' 'CHANDEL' 'CHANDIGARH' 'CHANDRAPUR'\n",
      " 'CHANGLANG' 'CHATRA' 'CHHATARPUR' 'CHHINDWARA' 'CHIKBALLAPUR'\n",
      " 'CHIKMAGALUR' 'CHIRANG' 'CHITRADURGA' 'CHITRAKOOT' 'CHITTOOR'\n",
      " 'CHITTORGARH' 'CHURACHANDPUR' 'CHURU' 'COIMBATORE' 'COOCHBEHAR'\n",
      " 'CUDDALORE' 'CUTTACK' 'DADRA AND NAGAR HAVELI' 'DAKSHIN KANNAD' 'DAMOH'\n",
      " 'DANG' 'DANTEWADA' 'DARBHANGA' 'DARJEELING' 'DARRANG' 'DATIA' 'DAUSA'\n",
      " 'DAVANGERE' 'DEHRADUN' 'DEOGARH' 'DEOGHAR' 'DEORIA' 'DEWAS' 'DHALAI'\n",
      " 'DHAMTARI' 'DHANBAD' 'DHAR' 'DHARMAPURI' 'DHARWAD' 'DHEMAJI' 'DHENKANAL'\n",
      " 'DHOLPUR' 'DHUBRI' 'DHULE' 'DIBANG VALLEY' 'DIBRUGARH' 'DIMA HASAO'\n",
      " 'DIMAPUR' 'DINAJPUR DAKSHIN' 'DINAJPUR UTTAR' 'DINDIGUL' 'DINDORI' 'DODA'\n",
      " 'DOHAD' 'DUMKA' 'DUNGARPUR' 'DURG' 'EAST DISTRICT' 'EAST GARO HILLS'\n",
      " 'EAST GODAVARI' 'EAST JAINTIA HILLS' 'EAST KAMENG' 'EAST KHASI HILLS'\n",
      " 'EAST SIANG' 'EAST SINGHBUM' 'ERNAKULAM' 'ERODE' 'ETAH' 'ETAWAH'\n",
      " 'FAIZABAD' 'FARIDABAD' 'FARIDKOT' 'FARRUKHABAD' 'FATEHABAD'\n",
      " 'FATEHGARH SAHIB' 'FATEHPUR' 'FIROZABAD' 'FIROZEPUR' 'GADAG' 'GADCHIROLI'\n",
      " 'GAJAPATI' 'GANDERBAL' 'GANDHINAGAR' 'GANGANAGAR' 'GANJAM' 'GARHWA'\n",
      " 'GAUTAM BUDDHA NAGAR' 'GAYA' 'GHAZIABAD' 'GHAZIPUR' 'GIRIDIH' 'GOALPARA'\n",
      " 'GODDA' 'GOLAGHAT' 'GONDA' 'GONDIA' 'GOPALGANJ' 'GORAKHPUR' 'GULBARGA'\n",
      " 'GUMLA' 'GUNA' 'GUNTUR' 'GURDASPUR' 'GURGAON' 'GWALIOR' 'HAILAKANDI'\n",
      " 'HAMIRPUR' 'HANUMANGARH' 'HARDA' 'HARDOI' 'HARIDWAR' 'HASSAN' 'HATHRAS'\n",
      " 'HAVERI' 'HAZARIBAGH' 'HINGOLI' 'HISAR' 'HOOGHLY' 'HOSHANGABAD'\n",
      " 'HOSHIARPUR' 'HOWRAH' 'HYDERABAD' 'IDUKKI' 'IMPHAL EAST' 'IMPHAL WEST'\n",
      " 'INDORE' 'JABALPUR' 'JAGATSINGHAPUR' 'JAIPUR' 'JAISALMER' 'JAJAPUR'\n",
      " 'JALANDHAR' 'JALAUN' 'JALGAON' 'JALNA' 'JALORE' 'JALPAIGURI' 'JAMMU'\n",
      " 'JAMNAGAR' 'JAMTARA' 'JAMUI' 'JANJGIR-CHAMPA' 'JASHPUR' 'JAUNPUR'\n",
      " 'JEHANABAD' 'JHABUA' 'JHAJJAR' 'JHALAWAR' 'JHANSI' 'JHARSUGUDA'\n",
      " 'JHUNJHUNU' 'JIND' 'JODHPUR' 'JORHAT' 'JUNAGADH' 'KABIRDHAM' 'KACHCHH'\n",
      " 'KADAPA' 'KAIMUR (BHABUA)' 'KAITHAL' 'KALAHANDI' 'KAMRUP' 'KAMRUP METRO'\n",
      " 'KANCHIPURAM' 'KANDHAMAL' 'KANGRA' 'KANKER' 'KANNAUJ' 'KANNIYAKUMARI'\n",
      " 'KANNUR' 'KANPUR DEHAT' 'KANPUR NAGAR' 'KAPURTHALA' 'KARAIKAL' 'KARAULI'\n",
      " 'KARBI ANGLONG' 'KARGIL' 'KARIMGANJ' 'KARIMNAGAR' 'KARNAL' 'KARUR'\n",
      " 'KASARAGOD' 'KASGANJ' 'KATHUA' 'KATIHAR' 'KATNI' 'KAUSHAMBI' 'KENDRAPARA'\n",
      " 'KENDUJHAR' 'KHAGARIA' 'KHAMMAM' 'KHANDWA' 'KHARGONE' 'KHEDA' 'KHERI'\n",
      " 'KHORDHA' 'KHUNTI' 'KINNAUR' 'KIPHIRE' 'KISHANGANJ' 'KISHTWAR' 'KODAGU'\n",
      " 'KODERMA' 'KOHIMA' 'KOKRAJHAR' 'KOLAR' 'KOLASIB' 'KOLHAPUR' 'KOLLAM'\n",
      " 'KOPPAL' 'KORAPUT' 'KORBA' 'KOREA' 'KOTA' 'KOTTAYAM' 'KOZHIKODE'\n",
      " 'KRISHNA' 'KRISHNAGIRI' 'KULGAM' 'KULLU' 'KUPWARA' 'KURNOOL'\n",
      " 'KURUKSHETRA' 'KURUNG KUMEY' 'KUSHI NAGAR' 'LAHUL AND SPITI' 'LAKHIMPUR'\n",
      " 'LAKHISARAI' 'LALITPUR' 'LATEHAR' 'LATUR' 'LAWNGTLAI' 'LEH LADAKH'\n",
      " 'LOHARDAGA' 'LOHIT' 'LONGLENG' 'LOWER DIBANG VALLEY' 'LOWER SUBANSIRI'\n",
      " 'LUCKNOW' 'LUDHIANA' 'LUNGLEI' 'MADHEPURA' 'MADHUBANI' 'MADURAI'\n",
      " 'MAHARAJGANJ' 'MAHASAMUND' 'MAHBUBNAGAR' 'MAHE' 'MAHENDRAGARH' 'MAHESANA'\n",
      " 'MAHOBA' 'MAINPURI' 'MALAPPURAM' 'MALDAH' 'MALKANGIRI' 'MAMIT' 'MANDI'\n",
      " 'MANDLA' 'MANDSAUR' 'MANDYA' 'MANSA' 'MARIGAON' 'MATHURA' 'MAU'\n",
      " 'MAYURBHANJ' 'MEDAK' 'MEDINIPUR EAST' 'MEDINIPUR WEST' 'MEERUT' 'MEWAT'\n",
      " 'MIRZAPUR' 'MOGA' 'MOKOKCHUNG' 'MON' 'MORADABAD' 'MORENA' 'MUKTSAR'\n",
      " 'MUMBAI' 'MUNGER' 'MURSHIDABAD' 'MUZAFFARNAGAR' 'MUZAFFARPUR' 'MYSORE'\n",
      " 'NABARANGPUR' 'NADIA' 'NAGAON' 'NAGAPATTINAM' 'NAGAUR' 'NAGPUR'\n",
      " 'NAINITAL' 'NALANDA' 'NALBARI' 'NALGONDA' 'NAMAKKAL' 'NANDED' 'NANDURBAR'\n",
      " 'NARAYANPUR' 'NARMADA' 'NARSINGHPUR' 'NASHIK' 'NAVSARI' 'NAWADA'\n",
      " 'NAWANSHAHR' 'NAYAGARH' 'NEEMUCH' 'NICOBARS' 'NIZAMABAD'\n",
      " 'NORTH AND MIDDLE ANDAMAN' 'NORTH DISTRICT' 'NORTH GOA' 'NORTH TRIPURA'\n",
      " 'NUAPADA' 'OSMANABAD' 'PAKUR' 'PALAKKAD' 'PALAMU' 'PALI' 'PALWAL'\n",
      " 'PANCH MAHALS' 'PANCHKULA' 'PANIPAT' 'PANNA' 'PAPUM PARE' 'PARBHANI'\n",
      " 'PASHCHIM CHAMPARAN' 'PATAN' 'PATHANAMTHITTA' 'PATIALA' 'PATNA'\n",
      " 'PAURI GARHWAL' 'PERAMBALUR' 'PEREN' 'PHEK' 'PILIBHIT' 'PITHORAGARH'\n",
      " 'PONDICHERRY' 'POONCH' 'PORBANDAR' 'PRAKASAM' 'PRATAPGARH' 'PUDUKKOTTAI'\n",
      " 'PULWAMA' 'PUNE' 'PURBI CHAMPARAN' 'PURI' 'PURNIA' 'PURULIA' 'RAE BARELI'\n",
      " 'RAICHUR' 'RAIGAD' 'RAIGARH' 'RAIPUR' 'RAISEN' 'RAJAURI' 'RAJGARH'\n",
      " 'RAJKOT' 'RAJNANDGAON' 'RAJSAMAND' 'RAMANAGARA' 'RAMANATHAPURAM' 'RAMBAN'\n",
      " 'RAMGARH' 'RAMPUR' 'RANCHI' 'RANGAREDDI' 'RATLAM' 'RATNAGIRI' 'RAYAGADA'\n",
      " 'REASI' 'REWA' 'REWARI' 'RI BHOI' 'ROHTAK' 'ROHTAS' 'RUDRA PRAYAG'\n",
      " 'RUPNAGAR' 'S.A.S NAGAR' 'SABAR KANTHA' 'SAGAR' 'SAHARANPUR' 'SAHARSA'\n",
      " 'SAHEBGANJ' 'SAIHA' 'SALEM' 'SAMASTIPUR' 'SAMBA' 'SAMBALPUR' 'SANGLI'\n",
      " 'SANGRUR' 'SANT KABEER NAGAR' 'SANT RAVIDAS NAGAR' 'SARAIKELA KHARSAWAN'\n",
      " 'SARAN' 'SATARA' 'SATNA' 'SAWAI MADHOPUR' 'SEHORE' 'SENAPATI' 'SEONI'\n",
      " 'SERCHHIP' 'SHAHDOL' 'SHAHJAHANPUR' 'SHAJAPUR' 'SHEIKHPURA' 'SHEOHAR'\n",
      " 'SHEOPUR' 'SHIMLA' 'SHIMOGA' 'SHIVPURI' 'SHOPIAN' 'SHRAVASTI'\n",
      " 'SIDDHARTH NAGAR' 'SIDHI' 'SIKAR' 'SIMDEGA' 'SINDHUDURG' 'SINGRAULI'\n",
      " 'SIRMAUR' 'SIROHI' 'SIRSA' 'SITAMARHI' 'SITAPUR' 'SIVAGANGA' 'SIVASAGAR'\n",
      " 'SIWAN' 'SOLAN' 'SOLAPUR' 'SONBHADRA' 'SONEPUR' 'SONIPAT' 'SONITPUR'\n",
      " 'SOUTH ANDAMANS' 'SOUTH DISTRICT' 'SOUTH GARO HILLS' 'SOUTH GOA'\n",
      " 'SOUTH TRIPURA' 'SPSR NELLORE' 'SRIKAKULAM' 'SRINAGAR' 'SULTANPUR'\n",
      " 'SUNDARGARH' 'SUPAUL' 'SURAT' 'SURENDRANAGAR' 'SURGUJA' 'TAMENGLONG'\n",
      " 'TAPI' 'TARN TARAN' 'TAWANG' 'TEHRI GARHWAL' 'THANE' 'THANJAVUR'\n",
      " 'THE NILGIRIS' 'THENI' 'THIRUVALLUR' 'THIRUVANANTHAPURAM' 'THIRUVARUR'\n",
      " 'THOUBAL' 'THRISSUR' 'TIKAMGARH' 'TINSUKIA' 'TIRAP' 'TIRUCHIRAPPALLI'\n",
      " 'TIRUNELVELI' 'TIRUPPUR' 'TIRUVANNAMALAI' 'TONK' 'TUENSANG' 'TUMKUR'\n",
      " 'TUTICORIN' 'UDAIPUR' 'UDALGURI' 'UDAM SINGH NAGAR' 'UDHAMPUR' 'UDUPI'\n",
      " 'UJJAIN' 'UKHRUL' 'UMARIA' 'UNA' 'UNNAO' 'UPPER SIANG' 'UPPER SUBANSIRI'\n",
      " 'UTTAR KANNAD' 'UTTAR KASHI' 'VADODARA' 'VAISHALI' 'VALSAD' 'VARANASI'\n",
      " 'VELLORE' 'VIDISHA' 'VILLUPURAM' 'VIRUDHUNAGAR' 'VISAKHAPATANAM'\n",
      " 'VIZIANAGARAM' 'WARANGAL' 'WARDHA' 'WASHIM' 'WAYANAD' 'WEST DISTRICT'\n",
      " 'WEST GARO HILLS' 'WEST GODAVARI' 'WEST KAMENG' 'WEST KHASI HILLS'\n",
      " 'WEST SIANG' 'WEST SINGHBHUM' 'WEST TRIPURA' 'WOKHA' 'YADGIR'\n",
      " 'YAMUNANAGAR' 'YANAM' 'YAVATMAL' 'ZUNHEBOTO']\n"
     ]
    }
   ],
   "source": [
    "print(d)"
   ]
  },
  {
   "cell_type": "code",
   "execution_count": 20,
   "id": "27adea02",
   "metadata": {},
   "outputs": [],
   "source": [
    "e=data.Crop.unique()"
   ]
  },
  {
   "cell_type": "code",
   "execution_count": 21,
   "id": "4082e432",
   "metadata": {},
   "outputs": [],
   "source": [
    "e.sort()"
   ]
  },
  {
   "cell_type": "code",
   "execution_count": 22,
   "id": "38b9d9a9",
   "metadata": {},
   "outputs": [
    {
     "name": "stdout",
     "output_type": "stream",
     "text": [
      "['Apple' 'Arcanut (Processed)' 'Arecanut' 'Arhar/Tur' 'Ash Gourd'\n",
      " 'Atcanut (Raw)' 'Bajra' 'Banana' 'Barley' 'Beans & Mutter(Vegetable)'\n",
      " 'Beet Root' 'Ber' 'Bhindi' 'Bitter Gourd' 'Black pepper' 'Blackgram'\n",
      " 'Bottle Gourd' 'Brinjal' 'Cabbage' 'Cardamom' 'Carrot' 'Cashewnut'\n",
      " 'Cashewnut Processed' 'Cashewnut Raw' 'Castor seed' 'Cauliflower'\n",
      " 'Citrus Fruit' 'Coffee' 'Cond-spcs other' 'Coriander' 'Cotton(lint)'\n",
      " 'Cowpea(Lobia)' 'Cucumber' 'Drum Stick' 'Dry chillies' 'Dry ginger'\n",
      " 'Garlic' 'Ginger' 'Gram' 'Grapes' 'Groundnut' 'Guar seed' 'Horse-gram'\n",
      " 'Jack Fruit' 'Jowar' 'Jute' 'Jute & mesta' 'Kapas' 'Khesari' 'Korra'\n",
      " 'Lab-Lab' 'Linseed' 'Litchi' 'Maize' 'Mango' 'Masoor' 'Mesta'\n",
      " 'Moong(Green Gram)' 'Moth' 'Niger seed' 'Oilseeds total' 'Onion' 'Orange'\n",
      " 'Other  Rabi pulses' 'Other Cereals & Millets' 'Other Citrus Fruit'\n",
      " 'Other Dry Fruit' 'Other Fresh Fruits' 'Other Kharif pulses'\n",
      " 'Other Vegetables' 'Paddy' 'Papaya' 'Peach' 'Pear' 'Peas  (vegetable)'\n",
      " 'Peas & beans (Pulses)' 'Pineapple' 'Plums' 'Pome Fruit' 'Pome Granet'\n",
      " 'Potato' 'Pulses total' 'Pump Kin' 'Ragi' 'Rapeseed &Mustard' 'Redish'\n",
      " 'Ribed Guard' 'Rice' 'Rubber' 'Safflower' 'Samai' 'Sannhamp' 'Sesamum'\n",
      " 'Small millets' 'Snak Guard' 'Soyabean' 'Sugarcane' 'Sunflower'\n",
      " 'Sweet potato' 'Tapioca' 'Tea' 'Tobacco' 'Tomato' 'Total foodgrain'\n",
      " 'Turmeric' 'Turnip' 'Urad' 'Varagu' 'Water Melon' 'Wheat' 'Yam'\n",
      " 'other fibres' 'other misc. pulses' 'other oilseeds']\n"
     ]
    }
   ],
   "source": [
    "print(e)"
   ]
  },
  {
   "cell_type": "code",
   "execution_count": null,
   "id": "fdd503df",
   "metadata": {},
   "outputs": [],
   "source": []
  },
  {
   "cell_type": "code",
   "execution_count": null,
   "id": "20aadac9",
   "metadata": {},
   "outputs": [],
   "source": []
  }
 ],
 "metadata": {
  "kernelspec": {
   "display_name": "Python 3 (ipykernel)",
   "language": "python",
   "name": "python3"
  },
  "language_info": {
   "codemirror_mode": {
    "name": "ipython",
    "version": 3
   },
   "file_extension": ".py",
   "mimetype": "text/x-python",
   "name": "python",
   "nbconvert_exporter": "python",
   "pygments_lexer": "ipython3",
   "version": "3.9.16"
  }
 },
 "nbformat": 4,
 "nbformat_minor": 5
}
