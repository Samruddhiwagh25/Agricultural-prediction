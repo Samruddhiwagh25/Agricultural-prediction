{
 "cells": [
  {
   "cell_type": "code",
   "execution_count": 1,
   "id": "7836d62b",
   "metadata": {},
   "outputs": [],
   "source": [
    "import pandas as pd\n",
    "from sklearn.model_selection import train_test_split\n",
    "from sklearn.linear_model import LinearRegression\n",
    "from sklearn.metrics import mean_squared_error, r2_score"
   ]
  },
  {
   "cell_type": "code",
   "execution_count": 2,
   "id": "7076ed97",
   "metadata": {},
   "outputs": [],
   "source": [
    "# Load the dataset\n",
    "data = pd.read_csv('D:/project sem 3/Data-processed/milk_yield.csv')"
   ]
  },
  {
   "cell_type": "code",
   "execution_count": 3,
   "id": "6e7f4e5e",
   "metadata": {},
   "outputs": [
    {
     "data": {
      "text/html": [
       "<div>\n",
       "<style scoped>\n",
       "    .dataframe tbody tr th:only-of-type {\n",
       "        vertical-align: middle;\n",
       "    }\n",
       "\n",
       "    .dataframe tbody tr th {\n",
       "        vertical-align: top;\n",
       "    }\n",
       "\n",
       "    .dataframe thead th {\n",
       "        text-align: right;\n",
       "    }\n",
       "</style>\n",
       "<table border=\"1\" class=\"dataframe\">\n",
       "  <thead>\n",
       "    <tr style=\"text-align: right;\">\n",
       "      <th></th>\n",
       "      <th>Unnamed: 0</th>\n",
       "      <th>id</th>\n",
       "      <th>herd</th>\n",
       "      <th>parity</th>\n",
       "      <th>year</th>\n",
       "      <th>milk</th>\n",
       "      <th>DIM</th>\n",
       "      <th>SLSCC</th>\n",
       "      <th>MPQ</th>\n",
       "      <th>seasson</th>\n",
       "    </tr>\n",
       "  </thead>\n",
       "  <tbody>\n",
       "    <tr>\n",
       "      <th>0</th>\n",
       "      <td>1</td>\n",
       "      <td>010000201-9</td>\n",
       "      <td>10000201</td>\n",
       "      <td>2</td>\n",
       "      <td>2008</td>\n",
       "      <td>17.0</td>\n",
       "      <td>15.0</td>\n",
       "      <td>6.5</td>\n",
       "      <td>3</td>\n",
       "      <td>4</td>\n",
       "    </tr>\n",
       "    <tr>\n",
       "      <th>1</th>\n",
       "      <td>2</td>\n",
       "      <td>010000201-9</td>\n",
       "      <td>10000201</td>\n",
       "      <td>2</td>\n",
       "      <td>2008</td>\n",
       "      <td>24.2</td>\n",
       "      <td>45.0</td>\n",
       "      <td>3.9</td>\n",
       "      <td>3</td>\n",
       "      <td>4</td>\n",
       "    </tr>\n",
       "    <tr>\n",
       "      <th>2</th>\n",
       "      <td>3</td>\n",
       "      <td>010000201-9</td>\n",
       "      <td>10000201</td>\n",
       "      <td>2</td>\n",
       "      <td>2008</td>\n",
       "      <td>24.7</td>\n",
       "      <td>75.0</td>\n",
       "      <td>3.0</td>\n",
       "      <td>3</td>\n",
       "      <td>4</td>\n",
       "    </tr>\n",
       "    <tr>\n",
       "      <th>3</th>\n",
       "      <td>4</td>\n",
       "      <td>010000201-9</td>\n",
       "      <td>10000201</td>\n",
       "      <td>2</td>\n",
       "      <td>2008</td>\n",
       "      <td>23.2</td>\n",
       "      <td>107.0</td>\n",
       "      <td>3.5</td>\n",
       "      <td>3</td>\n",
       "      <td>4</td>\n",
       "    </tr>\n",
       "    <tr>\n",
       "      <th>4</th>\n",
       "      <td>5</td>\n",
       "      <td>010000201-9</td>\n",
       "      <td>10000201</td>\n",
       "      <td>2</td>\n",
       "      <td>2008</td>\n",
       "      <td>19.8</td>\n",
       "      <td>137.0</td>\n",
       "      <td>4.0</td>\n",
       "      <td>3</td>\n",
       "      <td>4</td>\n",
       "    </tr>\n",
       "  </tbody>\n",
       "</table>\n",
       "</div>"
      ],
      "text/plain": [
       "   Unnamed: 0           id      herd  parity  year  milk    DIM  SLSCC  MPQ  \\\n",
       "0           1  010000201-9  10000201       2  2008  17.0   15.0    6.5    3   \n",
       "1           2  010000201-9  10000201       2  2008  24.2   45.0    3.9    3   \n",
       "2           3  010000201-9  10000201       2  2008  24.7   75.0    3.0    3   \n",
       "3           4  010000201-9  10000201       2  2008  23.2  107.0    3.5    3   \n",
       "4           5  010000201-9  10000201       2  2008  19.8  137.0    4.0    3   \n",
       "\n",
       "   seasson  \n",
       "0        4  \n",
       "1        4  \n",
       "2        4  \n",
       "3        4  \n",
       "4        4  "
      ]
     },
     "execution_count": 3,
     "metadata": {},
     "output_type": "execute_result"
    }
   ],
   "source": [
    "data.head()"
   ]
  },
  {
   "cell_type": "code",
   "execution_count": 4,
   "id": "3ee3f766",
   "metadata": {
    "scrolled": true
   },
   "outputs": [
    {
     "data": {
      "text/html": [
       "<div>\n",
       "<style scoped>\n",
       "    .dataframe tbody tr th:only-of-type {\n",
       "        vertical-align: middle;\n",
       "    }\n",
       "\n",
       "    .dataframe tbody tr th {\n",
       "        vertical-align: top;\n",
       "    }\n",
       "\n",
       "    .dataframe thead th {\n",
       "        text-align: right;\n",
       "    }\n",
       "</style>\n",
       "<table border=\"1\" class=\"dataframe\">\n",
       "  <thead>\n",
       "    <tr style=\"text-align: right;\">\n",
       "      <th></th>\n",
       "      <th>Unnamed: 0</th>\n",
       "      <th>id</th>\n",
       "      <th>herd</th>\n",
       "      <th>parity</th>\n",
       "      <th>year</th>\n",
       "      <th>milk</th>\n",
       "      <th>DIM</th>\n",
       "      <th>SLSCC</th>\n",
       "      <th>MPQ</th>\n",
       "      <th>seasson</th>\n",
       "    </tr>\n",
       "  </thead>\n",
       "  <tbody>\n",
       "    <tr>\n",
       "      <th>822792</th>\n",
       "      <td>822793</td>\n",
       "      <td>133003602-7036</td>\n",
       "      <td>133003602</td>\n",
       "      <td>4</td>\n",
       "      <td>2012</td>\n",
       "      <td>35.0</td>\n",
       "      <td>246.0</td>\n",
       "      <td>-0.2</td>\n",
       "      <td>1</td>\n",
       "      <td>1</td>\n",
       "    </tr>\n",
       "    <tr>\n",
       "      <th>822793</th>\n",
       "      <td>822794</td>\n",
       "      <td>133003602-7036</td>\n",
       "      <td>133003602</td>\n",
       "      <td>4</td>\n",
       "      <td>2012</td>\n",
       "      <td>28.0</td>\n",
       "      <td>280.0</td>\n",
       "      <td>1.8</td>\n",
       "      <td>1</td>\n",
       "      <td>1</td>\n",
       "    </tr>\n",
       "    <tr>\n",
       "      <th>822794</th>\n",
       "      <td>822795</td>\n",
       "      <td>133003602-7038</td>\n",
       "      <td>133003602</td>\n",
       "      <td>3</td>\n",
       "      <td>2011</td>\n",
       "      <td>40.0</td>\n",
       "      <td>231.0</td>\n",
       "      <td>2.9</td>\n",
       "      <td>1</td>\n",
       "      <td>1</td>\n",
       "    </tr>\n",
       "    <tr>\n",
       "      <th>822795</th>\n",
       "      <td>822796</td>\n",
       "      <td>133003602-7038</td>\n",
       "      <td>133003602</td>\n",
       "      <td>3</td>\n",
       "      <td>2011</td>\n",
       "      <td>31.0</td>\n",
       "      <td>264.0</td>\n",
       "      <td>6.6</td>\n",
       "      <td>1</td>\n",
       "      <td>1</td>\n",
       "    </tr>\n",
       "    <tr>\n",
       "      <th>822796</th>\n",
       "      <td>822797</td>\n",
       "      <td>133003602-7038</td>\n",
       "      <td>133003602</td>\n",
       "      <td>3</td>\n",
       "      <td>2011</td>\n",
       "      <td>26.0</td>\n",
       "      <td>295.0</td>\n",
       "      <td>2.7</td>\n",
       "      <td>1</td>\n",
       "      <td>1</td>\n",
       "    </tr>\n",
       "  </tbody>\n",
       "</table>\n",
       "</div>"
      ],
      "text/plain": [
       "        Unnamed: 0              id       herd  parity  year  milk    DIM  \\\n",
       "822792      822793  133003602-7036  133003602       4  2012  35.0  246.0   \n",
       "822793      822794  133003602-7036  133003602       4  2012  28.0  280.0   \n",
       "822794      822795  133003602-7038  133003602       3  2011  40.0  231.0   \n",
       "822795      822796  133003602-7038  133003602       3  2011  31.0  264.0   \n",
       "822796      822797  133003602-7038  133003602       3  2011  26.0  295.0   \n",
       "\n",
       "        SLSCC  MPQ  seasson  \n",
       "822792   -0.2    1        1  \n",
       "822793    1.8    1        1  \n",
       "822794    2.9    1        1  \n",
       "822795    6.6    1        1  \n",
       "822796    2.7    1        1  "
      ]
     },
     "execution_count": 4,
     "metadata": {},
     "output_type": "execute_result"
    }
   ],
   "source": [
    "data.tail()"
   ]
  },
  {
   "cell_type": "code",
   "execution_count": 5,
   "id": "5ef1493e",
   "metadata": {},
   "outputs": [
    {
     "data": {
      "text/plain": [
       "8227970"
      ]
     },
     "execution_count": 5,
     "metadata": {},
     "output_type": "execute_result"
    }
   ],
   "source": [
    "data.size"
   ]
  },
  {
   "cell_type": "code",
   "execution_count": 6,
   "id": "0753311e",
   "metadata": {},
   "outputs": [
    {
     "data": {
      "text/plain": [
       "(822797, 10)"
      ]
     },
     "execution_count": 6,
     "metadata": {},
     "output_type": "execute_result"
    }
   ],
   "source": [
    "data.shape"
   ]
  },
  {
   "cell_type": "code",
   "execution_count": 7,
   "id": "ee5e7e10",
   "metadata": {},
   "outputs": [
    {
     "data": {
      "text/plain": [
       "Index(['Unnamed: 0', 'id', 'herd', 'parity', 'year', 'milk', 'DIM', 'SLSCC',\n",
       "       'MPQ', 'seasson'],\n",
       "      dtype='object')"
      ]
     },
     "execution_count": 7,
     "metadata": {},
     "output_type": "execute_result"
    }
   ],
   "source": [
    "data.columns"
   ]
  },
  {
   "cell_type": "code",
   "execution_count": 8,
   "id": "351f77f0",
   "metadata": {},
   "outputs": [
    {
     "data": {
      "text/plain": [
       "Unnamed: 0      int64\n",
       "id             object\n",
       "herd            int64\n",
       "parity          int64\n",
       "year            int64\n",
       "milk          float64\n",
       "DIM           float64\n",
       "SLSCC         float64\n",
       "MPQ             int64\n",
       "seasson         int64\n",
       "dtype: object"
      ]
     },
     "execution_count": 8,
     "metadata": {},
     "output_type": "execute_result"
    }
   ],
   "source": [
    "data.dtypes"
   ]
  },
  {
   "cell_type": "code",
   "execution_count": 9,
   "id": "0187b16b",
   "metadata": {},
   "outputs": [
    {
     "data": {
      "text/html": [
       "<div>\n",
       "<style scoped>\n",
       "    .dataframe tbody tr th:only-of-type {\n",
       "        vertical-align: middle;\n",
       "    }\n",
       "\n",
       "    .dataframe tbody tr th {\n",
       "        vertical-align: top;\n",
       "    }\n",
       "\n",
       "    .dataframe thead th {\n",
       "        text-align: right;\n",
       "    }\n",
       "</style>\n",
       "<table border=\"1\" class=\"dataframe\">\n",
       "  <thead>\n",
       "    <tr style=\"text-align: right;\">\n",
       "      <th></th>\n",
       "      <th>Unnamed: 0</th>\n",
       "      <th>id</th>\n",
       "      <th>herd</th>\n",
       "      <th>parity</th>\n",
       "      <th>year</th>\n",
       "      <th>milk</th>\n",
       "      <th>DIM</th>\n",
       "      <th>SLSCC</th>\n",
       "      <th>MPQ</th>\n",
       "      <th>seasson</th>\n",
       "    </tr>\n",
       "  </thead>\n",
       "  <tbody>\n",
       "    <tr>\n",
       "      <th>0</th>\n",
       "      <td>False</td>\n",
       "      <td>False</td>\n",
       "      <td>False</td>\n",
       "      <td>False</td>\n",
       "      <td>False</td>\n",
       "      <td>False</td>\n",
       "      <td>False</td>\n",
       "      <td>False</td>\n",
       "      <td>False</td>\n",
       "      <td>False</td>\n",
       "    </tr>\n",
       "    <tr>\n",
       "      <th>1</th>\n",
       "      <td>False</td>\n",
       "      <td>False</td>\n",
       "      <td>False</td>\n",
       "      <td>False</td>\n",
       "      <td>False</td>\n",
       "      <td>False</td>\n",
       "      <td>False</td>\n",
       "      <td>False</td>\n",
       "      <td>False</td>\n",
       "      <td>False</td>\n",
       "    </tr>\n",
       "    <tr>\n",
       "      <th>2</th>\n",
       "      <td>False</td>\n",
       "      <td>False</td>\n",
       "      <td>False</td>\n",
       "      <td>False</td>\n",
       "      <td>False</td>\n",
       "      <td>False</td>\n",
       "      <td>False</td>\n",
       "      <td>False</td>\n",
       "      <td>False</td>\n",
       "      <td>False</td>\n",
       "    </tr>\n",
       "    <tr>\n",
       "      <th>3</th>\n",
       "      <td>False</td>\n",
       "      <td>False</td>\n",
       "      <td>False</td>\n",
       "      <td>False</td>\n",
       "      <td>False</td>\n",
       "      <td>False</td>\n",
       "      <td>False</td>\n",
       "      <td>False</td>\n",
       "      <td>False</td>\n",
       "      <td>False</td>\n",
       "    </tr>\n",
       "    <tr>\n",
       "      <th>4</th>\n",
       "      <td>False</td>\n",
       "      <td>False</td>\n",
       "      <td>False</td>\n",
       "      <td>False</td>\n",
       "      <td>False</td>\n",
       "      <td>False</td>\n",
       "      <td>False</td>\n",
       "      <td>False</td>\n",
       "      <td>False</td>\n",
       "      <td>False</td>\n",
       "    </tr>\n",
       "    <tr>\n",
       "      <th>...</th>\n",
       "      <td>...</td>\n",
       "      <td>...</td>\n",
       "      <td>...</td>\n",
       "      <td>...</td>\n",
       "      <td>...</td>\n",
       "      <td>...</td>\n",
       "      <td>...</td>\n",
       "      <td>...</td>\n",
       "      <td>...</td>\n",
       "      <td>...</td>\n",
       "    </tr>\n",
       "    <tr>\n",
       "      <th>822792</th>\n",
       "      <td>False</td>\n",
       "      <td>False</td>\n",
       "      <td>False</td>\n",
       "      <td>False</td>\n",
       "      <td>False</td>\n",
       "      <td>False</td>\n",
       "      <td>False</td>\n",
       "      <td>False</td>\n",
       "      <td>False</td>\n",
       "      <td>False</td>\n",
       "    </tr>\n",
       "    <tr>\n",
       "      <th>822793</th>\n",
       "      <td>False</td>\n",
       "      <td>False</td>\n",
       "      <td>False</td>\n",
       "      <td>False</td>\n",
       "      <td>False</td>\n",
       "      <td>False</td>\n",
       "      <td>False</td>\n",
       "      <td>False</td>\n",
       "      <td>False</td>\n",
       "      <td>False</td>\n",
       "    </tr>\n",
       "    <tr>\n",
       "      <th>822794</th>\n",
       "      <td>False</td>\n",
       "      <td>False</td>\n",
       "      <td>False</td>\n",
       "      <td>False</td>\n",
       "      <td>False</td>\n",
       "      <td>False</td>\n",
       "      <td>False</td>\n",
       "      <td>False</td>\n",
       "      <td>False</td>\n",
       "      <td>False</td>\n",
       "    </tr>\n",
       "    <tr>\n",
       "      <th>822795</th>\n",
       "      <td>False</td>\n",
       "      <td>False</td>\n",
       "      <td>False</td>\n",
       "      <td>False</td>\n",
       "      <td>False</td>\n",
       "      <td>False</td>\n",
       "      <td>False</td>\n",
       "      <td>False</td>\n",
       "      <td>False</td>\n",
       "      <td>False</td>\n",
       "    </tr>\n",
       "    <tr>\n",
       "      <th>822796</th>\n",
       "      <td>False</td>\n",
       "      <td>False</td>\n",
       "      <td>False</td>\n",
       "      <td>False</td>\n",
       "      <td>False</td>\n",
       "      <td>False</td>\n",
       "      <td>False</td>\n",
       "      <td>False</td>\n",
       "      <td>False</td>\n",
       "      <td>False</td>\n",
       "    </tr>\n",
       "  </tbody>\n",
       "</table>\n",
       "<p>822797 rows × 10 columns</p>\n",
       "</div>"
      ],
      "text/plain": [
       "        Unnamed: 0     id   herd  parity   year   milk    DIM  SLSCC    MPQ  \\\n",
       "0            False  False  False   False  False  False  False  False  False   \n",
       "1            False  False  False   False  False  False  False  False  False   \n",
       "2            False  False  False   False  False  False  False  False  False   \n",
       "3            False  False  False   False  False  False  False  False  False   \n",
       "4            False  False  False   False  False  False  False  False  False   \n",
       "...            ...    ...    ...     ...    ...    ...    ...    ...    ...   \n",
       "822792       False  False  False   False  False  False  False  False  False   \n",
       "822793       False  False  False   False  False  False  False  False  False   \n",
       "822794       False  False  False   False  False  False  False  False  False   \n",
       "822795       False  False  False   False  False  False  False  False  False   \n",
       "822796       False  False  False   False  False  False  False  False  False   \n",
       "\n",
       "        seasson  \n",
       "0         False  \n",
       "1         False  \n",
       "2         False  \n",
       "3         False  \n",
       "4         False  \n",
       "...         ...  \n",
       "822792    False  \n",
       "822793    False  \n",
       "822794    False  \n",
       "822795    False  \n",
       "822796    False  \n",
       "\n",
       "[822797 rows x 10 columns]"
      ]
     },
     "execution_count": 9,
     "metadata": {},
     "output_type": "execute_result"
    }
   ],
   "source": [
    "data.isna()"
   ]
  },
  {
   "cell_type": "code",
   "execution_count": 10,
   "id": "379e1bc1",
   "metadata": {},
   "outputs": [],
   "source": [
    "#data['milk'].fillna(1,inplace=True)"
   ]
  },
  {
   "cell_type": "code",
   "execution_count": 11,
   "id": "e7412771",
   "metadata": {},
   "outputs": [],
   "source": [
    "a=data['milk'].mean()\n",
    "data['milk'].fillna(a,inplace=True)\n",
    "\n",
    "#DIM\n",
    "b=data['DIM'].mean()\n",
    "data['DIM'].fillna(b,inplace=True)"
   ]
  },
  {
   "cell_type": "code",
   "execution_count": 12,
   "id": "aa904905",
   "metadata": {},
   "outputs": [],
   "source": [
    "# Select the relevant features for prediction\n",
    "X = data[['parity', 'herd', 'year', 'DIM', 'MPQ', 'seasson','SLSCC']]\n",
    "y = data['milk']"
   ]
  },
  {
   "cell_type": "code",
   "execution_count": 13,
   "id": "47f747d3",
   "metadata": {},
   "outputs": [
    {
     "data": {
      "text/plain": [
       "array([ 10000201,  10000203,  10002501,  10004002,  10009001,  11020702,\n",
       "        20002801,  20002805,  20006901,  20009404,  20009405,  20009406,\n",
       "        20009408,  20009409,  20009410,  20009801,  20015401,  20016102,\n",
       "        20016401,  20016701,  20017101,  20017601,  20017801,  20018101,\n",
       "        20019501,  20019801,  20021301,  20102802,  20102808,  20109411,\n",
       "        20116403,  20119502,  35012201,  35013401,  35013402,  35015301,\n",
       "        35015901,  35017101,  35017102,  35017201,  35018101,  35019201,\n",
       "        35019401,  35020101,  35022201,  55001801,  55002601,  55005208,\n",
       "        55005215,  26000901,  26001101,  26001110,  26001801,  26001810,\n",
       "        26002501,  26002502,  26002510,  26002901,  26004401,  26004502,\n",
       "        26004510,  26004901,  26004902,  26004910,  26005802,  26005803,\n",
       "        26005812,  26008301,  26008302,  26008310,  26008402,  26009110,\n",
       "        26010010,  26010401,  26010402,  26010410,  26010411,  26010801,\n",
       "        26011001,  26011010,  26011202,  26011210,  26011301,  26011310,\n",
       "        26011801,  26011811,  26012201,  26013201,  26013202,  26013210,\n",
       "        26013212,  26013301,  26013901,  26013910,  26014101,  26014110,\n",
       "        26014201,  26014501,  26014601,  26014701,  26014710,  26015501,\n",
       "        26015510,  26015601,  26016301,  26016310,  26017001,  26017010,\n",
       "        26017101,  26017201,  26017301,  26017401,  26017410,  26017601,\n",
       "        26018601,  26019501,  26019601,  26020301,  26020801,  18000301,\n",
       "        18006101,  18007501,  44010301,  45004801,  45005601,  29285002,\n",
       "        29285201,  29285801,  31000830,  31001301,  31001401,  31001501,\n",
       "        31004302,  31004501,  31004502,  31004601,  31004701,  31004801,\n",
       "        31004901,  31005101,  31021701,  31021702,  31021703,  31021704,\n",
       "        31021705,  31021706,  31036101,  52000101,  52000102,  52002601,\n",
       "        52002801,  52005801,  52007001,  52007101,  52009901,  52011501,\n",
       "        20019701,  20019702,  27001001,  27001801,  27001802,  55002501,\n",
       "        55004301,  55006501,  55010002,  55010101,  55014101,  55016601,\n",
       "        55016602,  55016603,  55016604,  55016605,  55016606,  55016902,\n",
       "        55020001,  55020701,  55021902,  55022101,  55022901,  55023001,\n",
       "        62000901,  62002601,  62002702,  62002901,  62017501,  62018101,\n",
       "        64000701,  64040515,  67005001,  70009517,  70009518,  70009520,\n",
       "        73001001,  73002601,  73002701,  75019901,  75063501,  76001801,\n",
       "        76002401,  76004801,  76005001,  76005201,  76005301, 127000301,\n",
       "       127000401, 127000501, 127001201, 127002001, 127003701, 127003801,\n",
       "       127003901, 127004101, 129000201, 129000202, 129000207, 129000402,\n",
       "       129000428, 129004801, 129008503, 129008701, 129010501, 129010901,\n",
       "       129010902, 129011101, 129011301, 129011401, 137005901, 165000701,\n",
       "       165000801, 165010101, 165010102, 165010801, 165253601, 171001601,\n",
       "       171004801,  52000202, 102001301, 102003001, 102003601, 102006201,\n",
       "       102006202, 102008601, 102010902, 102020001, 133003602,  20011602,\n",
       "        20011603,  27007901,  67003901,  67003902,  67003905,  74000101,\n",
       "        76005401, 165010301, 171003901], dtype=int64)"
      ]
     },
     "execution_count": 13,
     "metadata": {},
     "output_type": "execute_result"
    }
   ],
   "source": [
    "data['herd'].unique()"
   ]
  },
  {
   "cell_type": "code",
   "execution_count": 14,
   "id": "df3968bc",
   "metadata": {},
   "outputs": [],
   "source": [
    "# Split the dataset into training and testing sets\n",
    "X_train, X_test, y_train, y_test = train_test_split(X, y, test_size=0.2, random_state=42)"
   ]
  },
  {
   "cell_type": "code",
   "execution_count": 15,
   "id": "af4206c2",
   "metadata": {},
   "outputs": [],
   "source": [
    "#data.astype({'DIM': 'int32'}).dtypes"
   ]
  },
  {
   "cell_type": "code",
   "execution_count": 16,
   "id": "a5ca45d3",
   "metadata": {},
   "outputs": [
    {
     "data": {
      "text/html": [
       "<style>#sk-container-id-1 {color: black;background-color: white;}#sk-container-id-1 pre{padding: 0;}#sk-container-id-1 div.sk-toggleable {background-color: white;}#sk-container-id-1 label.sk-toggleable__label {cursor: pointer;display: block;width: 100%;margin-bottom: 0;padding: 0.3em;box-sizing: border-box;text-align: center;}#sk-container-id-1 label.sk-toggleable__label-arrow:before {content: \"▸\";float: left;margin-right: 0.25em;color: #696969;}#sk-container-id-1 label.sk-toggleable__label-arrow:hover:before {color: black;}#sk-container-id-1 div.sk-estimator:hover label.sk-toggleable__label-arrow:before {color: black;}#sk-container-id-1 div.sk-toggleable__content {max-height: 0;max-width: 0;overflow: hidden;text-align: left;background-color: #f0f8ff;}#sk-container-id-1 div.sk-toggleable__content pre {margin: 0.2em;color: black;border-radius: 0.25em;background-color: #f0f8ff;}#sk-container-id-1 input.sk-toggleable__control:checked~div.sk-toggleable__content {max-height: 200px;max-width: 100%;overflow: auto;}#sk-container-id-1 input.sk-toggleable__control:checked~label.sk-toggleable__label-arrow:before {content: \"▾\";}#sk-container-id-1 div.sk-estimator input.sk-toggleable__control:checked~label.sk-toggleable__label {background-color: #d4ebff;}#sk-container-id-1 div.sk-label input.sk-toggleable__control:checked~label.sk-toggleable__label {background-color: #d4ebff;}#sk-container-id-1 input.sk-hidden--visually {border: 0;clip: rect(1px 1px 1px 1px);clip: rect(1px, 1px, 1px, 1px);height: 1px;margin: -1px;overflow: hidden;padding: 0;position: absolute;width: 1px;}#sk-container-id-1 div.sk-estimator {font-family: monospace;background-color: #f0f8ff;border: 1px dotted black;border-radius: 0.25em;box-sizing: border-box;margin-bottom: 0.5em;}#sk-container-id-1 div.sk-estimator:hover {background-color: #d4ebff;}#sk-container-id-1 div.sk-parallel-item::after {content: \"\";width: 100%;border-bottom: 1px solid gray;flex-grow: 1;}#sk-container-id-1 div.sk-label:hover label.sk-toggleable__label {background-color: #d4ebff;}#sk-container-id-1 div.sk-serial::before {content: \"\";position: absolute;border-left: 1px solid gray;box-sizing: border-box;top: 0;bottom: 0;left: 50%;z-index: 0;}#sk-container-id-1 div.sk-serial {display: flex;flex-direction: column;align-items: center;background-color: white;padding-right: 0.2em;padding-left: 0.2em;position: relative;}#sk-container-id-1 div.sk-item {position: relative;z-index: 1;}#sk-container-id-1 div.sk-parallel {display: flex;align-items: stretch;justify-content: center;background-color: white;position: relative;}#sk-container-id-1 div.sk-item::before, #sk-container-id-1 div.sk-parallel-item::before {content: \"\";position: absolute;border-left: 1px solid gray;box-sizing: border-box;top: 0;bottom: 0;left: 50%;z-index: -1;}#sk-container-id-1 div.sk-parallel-item {display: flex;flex-direction: column;z-index: 1;position: relative;background-color: white;}#sk-container-id-1 div.sk-parallel-item:first-child::after {align-self: flex-end;width: 50%;}#sk-container-id-1 div.sk-parallel-item:last-child::after {align-self: flex-start;width: 50%;}#sk-container-id-1 div.sk-parallel-item:only-child::after {width: 0;}#sk-container-id-1 div.sk-dashed-wrapped {border: 1px dashed gray;margin: 0 0.4em 0.5em 0.4em;box-sizing: border-box;padding-bottom: 0.4em;background-color: white;}#sk-container-id-1 div.sk-label label {font-family: monospace;font-weight: bold;display: inline-block;line-height: 1.2em;}#sk-container-id-1 div.sk-label-container {text-align: center;}#sk-container-id-1 div.sk-container {/* jupyter's `normalize.less` sets `[hidden] { display: none; }` but bootstrap.min.css set `[hidden] { display: none !important; }` so we also need the `!important` here to be able to override the default hidden behavior on the sphinx rendered scikit-learn.org. See: https://github.com/scikit-learn/scikit-learn/issues/21755 */display: inline-block !important;position: relative;}#sk-container-id-1 div.sk-text-repr-fallback {display: none;}</style><div id=\"sk-container-id-1\" class=\"sk-top-container\"><div class=\"sk-text-repr-fallback\"><pre>LinearRegression()</pre><b>In a Jupyter environment, please rerun this cell to show the HTML representation or trust the notebook. <br />On GitHub, the HTML representation is unable to render, please try loading this page with nbviewer.org.</b></div><div class=\"sk-container\" hidden><div class=\"sk-item\"><div class=\"sk-estimator sk-toggleable\"><input class=\"sk-toggleable__control sk-hidden--visually\" id=\"sk-estimator-id-1\" type=\"checkbox\" checked><label for=\"sk-estimator-id-1\" class=\"sk-toggleable__label sk-toggleable__label-arrow\">LinearRegression</label><div class=\"sk-toggleable__content\"><pre>LinearRegression()</pre></div></div></div></div></div>"
      ],
      "text/plain": [
       "LinearRegression()"
      ]
     },
     "execution_count": 16,
     "metadata": {},
     "output_type": "execute_result"
    }
   ],
   "source": [
    "# Train the model\n",
    "model = LinearRegression()\n",
    "model.fit(X_train, y_train)"
   ]
  },
  {
   "cell_type": "code",
   "execution_count": 17,
   "id": "9229e4db",
   "metadata": {},
   "outputs": [],
   "source": [
    "# Make predictions on the testing set\n",
    "y_pred = model.predict(X_test)"
   ]
  },
  {
   "cell_type": "code",
   "execution_count": 18,
   "id": "1e25e5cc",
   "metadata": {},
   "outputs": [],
   "source": [
    "# Evaluate the model's performance\n",
    "mse = mean_squared_error(y_test, y_pred)\n",
    "rmse = mse**0.5\n",
    "r2 = r2_score(y_test, y_pred)"
   ]
  },
  {
   "cell_type": "code",
   "execution_count": 19,
   "id": "05fdfa62",
   "metadata": {},
   "outputs": [
    {
     "name": "stdout",
     "output_type": "stream",
     "text": [
      "Mean Squared Error: 47.29816363970347\n",
      "Root Mean Squared Error: 6.877366039386261\n",
      "R-Squared Value: 0.30169788850311996\n"
     ]
    }
   ],
   "source": [
    "print('Mean Squared Error:', mse)\n",
    "print('Root Mean Squared Error:', rmse)\n",
    "print('R-Squared Value:', r2)"
   ]
  },
  {
   "cell_type": "code",
   "execution_count": null,
   "id": "f490bb7f",
   "metadata": {},
   "outputs": [],
   "source": []
  },
  {
   "cell_type": "code",
   "execution_count": 20,
   "id": "f0258edb",
   "metadata": {},
   "outputs": [
    {
     "name": "stdout",
     "output_type": "stream",
     "text": [
      "Predicted Milk Production: [28.71316371]\n"
     ]
    }
   ],
   "source": [
    "# Predict milk production for new data\n",
    "data = pd.DataFrame({'parity': [2], 'herd': [10000201], 'year': [2025], 'DIM': [200], 'MPQ': [3.5], 'seasson': [4], 'SLSCC':[3]})\n",
    "production = model.predict(data)\n",
    "print('Predicted Milk Production:', production)\n"
   ]
  },
  {
   "cell_type": "code",
   "execution_count": 21,
   "id": "edc54ab8",
   "metadata": {},
   "outputs": [],
   "source": [
    "import pickle\n",
    "\n",
    "my_pkl_filename = 'D:/project sem 3/models/milky.pkl'\n",
    "# Open the file to save as pkl file\n",
    "my_Model_pkl = open(my_pkl_filename, 'wb')\n",
    "pickle.dump(model, my_Model_pkl)\n",
    "# Close the pickle instances\n",
    "my_Model_pkl.close()"
   ]
  },
  {
   "cell_type": "code",
   "execution_count": null,
   "id": "fd25bcdc",
   "metadata": {},
   "outputs": [],
   "source": []
  },
  {
   "cell_type": "code",
   "execution_count": null,
   "id": "f1e0cf07",
   "metadata": {},
   "outputs": [],
   "source": []
  }
 ],
 "metadata": {
  "kernelspec": {
   "display_name": "Python 3 (ipykernel)",
   "language": "python",
   "name": "python3"
  },
  "language_info": {
   "codemirror_mode": {
    "name": "ipython",
    "version": 3
   },
   "file_extension": ".py",
   "mimetype": "text/x-python",
   "name": "python",
   "nbconvert_exporter": "python",
   "pygments_lexer": "ipython3",
   "version": "3.9.16"
  }
 },
 "nbformat": 4,
 "nbformat_minor": 5
}
